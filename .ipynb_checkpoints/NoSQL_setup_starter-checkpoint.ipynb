{
 "cells": [
  {
   "cell_type": "markdown",
   "id": "9a57c4c6",
   "metadata": {},
   "source": [
    "# Eat Safe, Love"
   ]
  },
  {
   "cell_type": "markdown",
   "id": "064ef857",
   "metadata": {},
   "source": [
    "## Part 1: Database and Jupyter Notebook Set Up"
   ]
  },
  {
   "cell_type": "markdown",
   "id": "664e3c1f",
   "metadata": {},
   "source": [
    "Import the data provided in the `establishments.json` file from your Terminal. Name the database `uk_food` and the collection `establishments`.\n",
    "\n",
    "Within this markdown cell, copy the line of text you used to import the data from your Terminal. This way, future analysts will be able to repeat your process.\n",
    "\n",
    "e.g.: Import the dataset with `mongoimport --type json -d uk_food -c establishments --drop --jsonArray ./Resources/establishments.json`"
   ]
  },
  {
   "cell_type": "code",
   "execution_count": 30,
   "id": "3ecdd008",
   "metadata": {},
   "outputs": [],
   "source": [
    "# Import dependencies\n",
    "from pymongo import MongoClient\n",
    "from pprint import pprint\n",
    "# importing ObjectId from bson library\n",
    "from bson.objectid import ObjectId\n"
   ]
  },
  {
   "cell_type": "code",
   "execution_count": 31,
   "id": "59390c4a",
   "metadata": {},
   "outputs": [],
   "source": [
    "# Create an instance of MongoClient\n",
    "mongo = MongoClient(port=27017)"
   ]
  },
  {
   "cell_type": "code",
   "execution_count": 32,
   "id": "7f9ececa",
   "metadata": {},
   "outputs": [
    {
     "name": "stdout",
     "output_type": "stream",
     "text": [
      "['admin', 'autosaurus', 'classDB', 'config', 'countryDB', 'epa', 'fruits_db', 'local', 'met', 'travel_db', 'uk_food']\n"
     ]
    }
   ],
   "source": [
    "# confirm that our new database was created\n",
    "print(mongo.list_database_names())"
   ]
  },
  {
   "cell_type": "code",
   "execution_count": 33,
   "id": "71e373c1",
   "metadata": {},
   "outputs": [],
   "source": [
    "# assign the uk_food database to a variable name\n",
    "db = mongo['uk_food']"
   ]
  },
  {
   "cell_type": "code",
   "execution_count": 34,
   "id": "ef1b89ed",
   "metadata": {},
   "outputs": [
    {
     "name": "stdout",
     "output_type": "stream",
     "text": [
      "['establishments']\n"
     ]
    }
   ],
   "source": [
    "# review the collections in our new database\n",
    "print(db.list_collection_names())"
   ]
  },
  {
   "cell_type": "code",
   "execution_count": 35,
   "id": "18ab463c",
   "metadata": {},
   "outputs": [
    {
     "name": "stdout",
     "output_type": "stream",
     "text": [
      "{'AddressLine1': 'The Bay',\n",
      " 'AddressLine2': 'St Margarets Bay',\n",
      " 'AddressLine3': 'Kent',\n",
      " 'AddressLine4': '',\n",
      " 'BusinessName': 'Refreshment Kiosk',\n",
      " 'BusinessType': 'Restaurant/Cafe/Canteen',\n",
      " 'BusinessTypeID': 1,\n",
      " 'ChangesByServerID': 0,\n",
      " 'Distance': 4587.347174863443,\n",
      " 'FHRSID': 254719,\n",
      " 'LocalAuthorityBusinessID': 'PI/000069980',\n",
      " 'LocalAuthorityCode': '182',\n",
      " 'LocalAuthorityEmailAddress': 'publicprotection@dover.gov.uk',\n",
      " 'LocalAuthorityName': 'Dover',\n",
      " 'LocalAuthorityWebSite': 'http://www.dover.gov.uk/',\n",
      " 'NewRatingPending': False,\n",
      " 'Phone': '',\n",
      " 'PostCode': 'CT15 6DY',\n",
      " 'RatingDate': '2022-03-24T00:00:00',\n",
      " 'RatingKey': 'fhrs_5_en-gb',\n",
      " 'RatingValue': '5',\n",
      " 'RightToReply': '',\n",
      " 'SchemeType': 'FHRS',\n",
      " '_id': ObjectId('646a690d84c12bf80675bbff'),\n",
      " 'geocode': {'latitude': '51.152225', 'longitude': '1.387974'},\n",
      " 'links': [{'href': 'https://api.ratings.food.gov.uk/establishments/254719',\n",
      "            'rel': 'self'}],\n",
      " 'meta': {'dataSource': None,\n",
      "          'extractDate': '0001-01-01T00:00:00',\n",
      "          'itemCount': 0,\n",
      "          'pageNumber': 0,\n",
      "          'pageSize': 0,\n",
      "          'returncode': None,\n",
      "          'totalCount': 0,\n",
      "          'totalPages': 0},\n",
      " 'scores': {'ConfidenceInManagement': 5, 'Hygiene': 0, 'Structural': 5}}\n"
     ]
    }
   ],
   "source": [
    "# review a document in the establishments collection\n",
    "pprint(db.establishments.find_one())"
   ]
  },
  {
   "cell_type": "code",
   "execution_count": 36,
   "id": "11c9f11b",
   "metadata": {},
   "outputs": [],
   "source": [
    "# assign the collection to a variable\n",
    "establishments = db['establishments']"
   ]
  },
  {
   "cell_type": "markdown",
   "id": "d5671434",
   "metadata": {},
   "source": [
    "## Part 2: Update the Database"
   ]
  },
  {
   "cell_type": "markdown",
   "id": "314bd884",
   "metadata": {},
   "source": [
    "1. An exciting new halal restaurant just opened in Greenwich, but hasn't been rated yet. The magazine has asked you to include it in your analysis. Add the following restaurant \"Penang Flavours\" to the database."
   ]
  },
  {
   "cell_type": "code",
   "execution_count": 37,
   "id": "c2da7648",
   "metadata": {},
   "outputs": [
    {
     "name": "stdout",
     "output_type": "stream",
     "text": [
      "None\n"
     ]
    }
   ],
   "source": [
    "# Check if the data exists in the DB\n",
    "#pprint(establishments.find_one({\"BusinessName\":\"Penang Flavours\"}))"
   ]
  },
  {
   "cell_type": "code",
   "execution_count": 38,
   "id": "44665e82",
   "metadata": {},
   "outputs": [],
   "source": [
    "#Create a dictionary for the new restaurant data\n",
    "new_restaurant = {\n",
    "    \"BusinessName\":\"Penang Flavours\",\n",
    "    \"BusinessType\":\"Restaurant/Cafe/Canteen\",\n",
    "    \"BusinessTypeID\":\"\",\n",
    "    \"AddressLine1\":\"Penang Flavours\",\n",
    "    \"AddressLine2\":\"146A Plumstead Rd\",\n",
    "    \"AddressLine3\":\"London\",\n",
    "    \"AddressLine4\":\"\",\n",
    "    \"PostCode\":\"SE18 7DY\",\n",
    "    \"Phone\":\"\",\n",
    "    \"LocalAuthorityCode\":\"511\",\n",
    "    \"LocalAuthorityName\":\"Greenwich\",\n",
    "    \"LocalAuthorityWebSite\":\"http://www.royalgreenwich.gov.uk\",\n",
    "    \"LocalAuthorityEmailAddress\":\"health@royalgreenwich.gov.uk\",\n",
    "    \"scores\":{\n",
    "        \"Hygiene\":\"\",\n",
    "        \"Structural\":\"\",\n",
    "        \"ConfidenceInManagement\":\"\"\n",
    "    },\n",
    "    \"SchemeType\":\"FHRS\",\n",
    "    \"geocode\":{\n",
    "        \"longitude\":\"0.08384000\",\n",
    "        \"latitude\":\"51.49014200\"\n",
    "    },\n",
    "    \"RightToReply\":\"\",\n",
    "    \"Distance\":4623.9723280747176,\n",
    "    \"NewRatingPending\":True\n",
    "}"
   ]
  },
  {
   "cell_type": "code",
   "execution_count": 39,
   "id": "a6e5cece",
   "metadata": {},
   "outputs": [
    {
     "name": "stdout",
     "output_type": "stream",
     "text": [
      "Restaurant added succesfully: Penang Flavours\n",
      "Restaurant id:  646a69565a2bee04d27ba43e\n"
     ]
    }
   ],
   "source": [
    "# Insert the new restaurant into the collection\n",
    "if establishments.find_one({\"BusinessName\":\"Penang Flavours\"}) is None:\n",
    "    \n",
    "        # Insert the new data into the collection\n",
    "        result = establishments.insert_one(new_restaurant)\n",
    "        restaurant_id = result.inserted_id\n",
    "        \n",
    "        if restaurant_id:\n",
    "            \n",
    "            # Print objectID when inserted\n",
    "            print(f'Restaurant added succesfully: {new_restaurant[\"BusinessName\"]}')\n",
    "              \n",
    "    # Optional: Print a statement if the object is in the database. \n",
    "else: print(f'Restaurant is already in the database.')\n",
    "    \n",
    "print(\"Restaurant id: \", restaurant_id)    "
   ]
  },
  {
   "cell_type": "code",
   "execution_count": 40,
   "id": "63bb10f9",
   "metadata": {},
   "outputs": [
    {
     "name": "stdout",
     "output_type": "stream",
     "text": [
      "{'_id': ObjectId('646a69565a2bee04d27ba43e'), 'BusinessName': 'Penang Flavours', 'BusinessType': 'Restaurant/Cafe/Canteen', 'BusinessTypeID': '', 'AddressLine1': 'Penang Flavours', 'AddressLine2': '146A Plumstead Rd', 'AddressLine3': 'London', 'AddressLine4': '', 'PostCode': 'SE18 7DY', 'Phone': '', 'LocalAuthorityCode': '511', 'LocalAuthorityName': 'Greenwich', 'LocalAuthorityWebSite': 'http://www.royalgreenwich.gov.uk', 'LocalAuthorityEmailAddress': 'health@royalgreenwich.gov.uk', 'scores': {'Hygiene': '', 'Structural': '', 'ConfidenceInManagement': ''}, 'SchemeType': 'FHRS', 'geocode': {'longitude': '0.08384000', 'latitude': '51.49014200'}, 'RightToReply': '', 'Distance': 4623.972328074718, 'NewRatingPending': True}\n"
     ]
    }
   ],
   "source": [
    "# Check that the new restaurant was inserted\n",
    "\n",
    "objInstance = ObjectId(restaurant_id)\n",
    "\n",
    "results = establishments.find({\"_id\":objInstance})\n",
    "for result in results:\n",
    "    print(result)"
   ]
  },
  {
   "cell_type": "markdown",
   "id": "0ef4395a",
   "metadata": {},
   "source": [
    "2. Find the BusinessTypeID for \"Restaurant/Cafe/Canteen\" and return only the `BusinessTypeID` and `BusinessType` fields."
   ]
  },
  {
   "cell_type": "code",
   "execution_count": 41,
   "id": "93c63829",
   "metadata": {},
   "outputs": [
    {
     "name": "stdout",
     "output_type": "stream",
     "text": [
      "[{'BusinessType': 'Restaurant/Cafe/Canteen',\n",
      "  'BusinessTypeID': 1,\n",
      "  '_id': ObjectId('646a690d84c12bf80675bbff')},\n",
      " {'BusinessType': 'Restaurant/Cafe/Canteen',\n",
      "  'BusinessTypeID': 1,\n",
      "  '_id': ObjectId('646a690d84c12bf80675bc00')},\n",
      " {'BusinessType': 'Restaurant/Cafe/Canteen',\n",
      "  'BusinessTypeID': 1,\n",
      "  '_id': ObjectId('646a690d84c12bf80675bc01')},\n",
      " {'BusinessType': 'Restaurant/Cafe/Canteen',\n",
      "  'BusinessTypeID': 1,\n",
      "  '_id': ObjectId('646a690d84c12bf80675bc02')},\n",
      " {'BusinessType': 'Restaurant/Cafe/Canteen',\n",
      "  'BusinessTypeID': 1,\n",
      "  '_id': ObjectId('646a690d84c12bf80675bc04')}]\n"
     ]
    }
   ],
   "source": [
    "# Find the BusinessTypeID for \"Restaurant/Cafe/Canteen\" and return only the BusinessTypeID and BusinessType fields\n",
    "query1 = {'BusinessType': 'Restaurant/Cafe/Canteen'}\n",
    "fields = {'BusinessTypeID': 1, 'BusinessType': 1}\n",
    "limit = 5\n",
    "\n",
    "# Cast the results as a list and save them to a variable\n",
    "results = list(establishments.find(query1, fields).limit(limit))\n",
    "\n",
    "# Pretty print the results\n",
    "pprint(results)"
   ]
  },
  {
   "cell_type": "markdown",
   "id": "4e570caf",
   "metadata": {},
   "source": [
    "3. Update the new restaurant with the `BusinessTypeID` you found."
   ]
  },
  {
   "cell_type": "code",
   "execution_count": 42,
   "id": "7f599f3d",
   "metadata": {},
   "outputs": [
    {
     "name": "stdout",
     "output_type": "stream",
     "text": [
      "Restaurant is updated with BusinessTypeID.\n"
     ]
    }
   ],
   "source": [
    "# Update the new restaurant with the correct BusinessType\n",
    "newvalue = {'$set':{ \"BusinessTypeID\" : 1}}\n",
    "\n",
    "\n",
    "est = establishments.find_one({\"_id\": objInstance})\n",
    "\n",
    "if est:\n",
    "    establishments.update_one({\"_id\": objInstance}, newvalue)\n",
    "    print(f'Restaurant is updated with BusinessTypeID.')\n"
   ]
  },
  {
   "cell_type": "code",
   "execution_count": 43,
   "id": "a6ad16f7",
   "metadata": {},
   "outputs": [
    {
     "name": "stdout",
     "output_type": "stream",
     "text": [
      "[{'BusinessName': 'Penang Flavours',\n",
      "  'BusinessType': 'Restaurant/Cafe/Canteen',\n",
      "  'BusinessTypeID': 1,\n",
      "  '_id': ObjectId('646a69565a2bee04d27ba43e')}]\n"
     ]
    }
   ],
   "source": [
    "# Confirm that the new restaurant was updated\n",
    "query2 = {\"_id\": objInstance}\n",
    "fields = {'BusinessName':1,'BusinessTypeID': 1, 'BusinessType': 1}\n",
    "\n",
    "results = list(establishments.find(query2, fields))\n",
    "pprint(results)"
   ]
  },
  {
   "cell_type": "markdown",
   "id": "67281254",
   "metadata": {},
   "source": [
    "4. The magazine is not interested in any establishments in Dover, so check how many documents contain the Dover Local Authority. Then, remove any establishments within the Dover Local Authority from the database, and check the number of documents to ensure they were deleted."
   ]
  },
  {
   "cell_type": "code",
   "execution_count": 44,
   "id": "768474a6",
   "metadata": {
    "scrolled": true
   },
   "outputs": [
    {
     "name": "stdout",
     "output_type": "stream",
     "text": [
      "[{'LocalAuthorityCode': '182',\n",
      "  'LocalAuthorityName': 'Dover',\n",
      "  '_id': ObjectId('646a690d84c12bf80675bbff')},\n",
      " {'LocalAuthorityCode': '182',\n",
      "  'LocalAuthorityName': 'Dover',\n",
      "  '_id': ObjectId('646a690d84c12bf80675bc00')},\n",
      " {'LocalAuthorityCode': '182',\n",
      "  'LocalAuthorityName': 'Dover',\n",
      "  '_id': ObjectId('646a690d84c12bf80675bc01')},\n",
      " {'LocalAuthorityCode': '182',\n",
      "  'LocalAuthorityName': 'Dover',\n",
      "  '_id': ObjectId('646a690d84c12bf80675bc02')},\n",
      " {'LocalAuthorityCode': '182',\n",
      "  'LocalAuthorityName': 'Dover',\n",
      "  '_id': ObjectId('646a690d84c12bf80675bc03')},\n",
      " {'LocalAuthorityCode': '182',\n",
      "  'LocalAuthorityName': 'Dover',\n",
      "  '_id': ObjectId('646a690d84c12bf80675bc04')},\n",
      " {'LocalAuthorityCode': '182',\n",
      "  'LocalAuthorityName': 'Dover',\n",
      "  '_id': ObjectId('646a690d84c12bf80675bc05')},\n",
      " {'LocalAuthorityCode': '182',\n",
      "  'LocalAuthorityName': 'Dover',\n",
      "  '_id': ObjectId('646a690d84c12bf80675bc06')},\n",
      " {'LocalAuthorityCode': '182',\n",
      "  'LocalAuthorityName': 'Dover',\n",
      "  '_id': ObjectId('646a690d84c12bf80675bc07')},\n",
      " {'LocalAuthorityCode': '182',\n",
      "  'LocalAuthorityName': 'Dover',\n",
      "  '_id': ObjectId('646a690d84c12bf80675bc08')}]\n",
      "Number of rows in result:  994\n"
     ]
    }
   ],
   "source": [
    "# Find how many documents have LocalAuthorityName as \"Dover\"\n",
    "# Query\n",
    "query3 = {\"LocalAuthorityName\": \"Dover\"}\n",
    "fields = {'LocalAuthorityName': 1, 'LocalAuthorityCode': 1}\n",
    "\n",
    "results = list(establishments.find(query3, fields))\n",
    "\n",
    "# Pretty print the first 10 in results\n",
    "pprint(results[0:10])\n",
    "print(\"Number of rows in result: \", len(results))"
   ]
  },
  {
   "cell_type": "code",
   "execution_count": 45,
   "id": "88cf9179",
   "metadata": {},
   "outputs": [
    {
     "name": "stdout",
     "output_type": "stream",
     "text": [
      "Number of documents having Dover local authority: 994\n"
     ]
    }
   ],
   "source": [
    "#Usimg count_documents({}) function\n",
    "print(f'Number of documents having Dover local authority: {establishments.count_documents(query3)}')"
   ]
  },
  {
   "cell_type": "code",
   "execution_count": 46,
   "id": "a11d5f1b",
   "metadata": {},
   "outputs": [],
   "source": [
    "# Delete all documents where LocalAuthorityName is \"Dover\"\n",
    "query4 = {\"LocalAuthorityName\": \"Dover\", \"LocalAuthorityCode\": \"182\" }\n",
    "del_result = establishments.delete_many(query4)"
   ]
  },
  {
   "cell_type": "code",
   "execution_count": 47,
   "id": "9139aa66",
   "metadata": {},
   "outputs": [
    {
     "name": "stdout",
     "output_type": "stream",
     "text": [
      "Number of documents having Dover local authority: 0\n"
     ]
    }
   ],
   "source": [
    "# Check if any remaining documents include Dover\n",
    "print(f'Number of documents having Dover local authority: {establishments.count_documents(query4)}')\n",
    "\n"
   ]
  },
  {
   "cell_type": "code",
   "execution_count": 48,
   "id": "8c356f7b",
   "metadata": {},
   "outputs": [
    {
     "name": "stdout",
     "output_type": "stream",
     "text": [
      "Remanining number of documents: 38786\n",
      "-------------------------------------------------------------------------\n",
      "{'AddressLine1': 'St Marys Church Of England Primary School',\n",
      " 'AddressLine2': 'Warren Road',\n",
      " 'AddressLine3': 'Folkestone',\n",
      " 'AddressLine4': 'Kent',\n",
      " 'BusinessName': 'St Marys COE (aided) Primary School',\n",
      " 'BusinessType': 'School/college/university',\n",
      " 'BusinessTypeID': 7845,\n",
      " 'ChangesByServerID': 0,\n",
      " 'Distance': 4591.871474174837,\n",
      " 'FHRSID': 289353,\n",
      " 'LocalAuthorityBusinessID': 'PI/000002468',\n",
      " 'LocalAuthorityCode': '188',\n",
      " 'LocalAuthorityEmailAddress': 'foodteam@folkestone-hythe.gov.uk',\n",
      " 'LocalAuthorityName': 'Folkestone and Hythe',\n",
      " 'LocalAuthorityWebSite': 'http://www.folkestone-hythe.gov.uk',\n",
      " 'NewRatingPending': False,\n",
      " 'Phone': '',\n",
      " 'PostCode': 'CT19 6QH',\n",
      " 'RatingDate': '2016-09-13T00:00:00',\n",
      " 'RatingKey': 'fhrs_5_en-gb',\n",
      " 'RatingValue': '5',\n",
      " 'RightToReply': '',\n",
      " 'SchemeType': 'FHRS',\n",
      " '_id': ObjectId('646a690d84c12bf80675bee4'),\n",
      " 'geocode': {'latitude': '51.085797', 'longitude': '1.194762'},\n",
      " 'links': [{'href': 'https://api.ratings.food.gov.uk/establishments/289353',\n",
      "            'rel': 'self'}],\n",
      " 'meta': {'dataSource': None,\n",
      "          'extractDate': '0001-01-01T00:00:00',\n",
      "          'itemCount': 0,\n",
      "          'pageNumber': 0,\n",
      "          'pageSize': 0,\n",
      "          'returncode': None,\n",
      "          'totalCount': 0,\n",
      "          'totalPages': 0},\n",
      " 'scores': {'ConfidenceInManagement': 0, 'Hygiene': 0, 'Structural': 0}}\n"
     ]
    }
   ],
   "source": [
    "# Check that other documents remain with 'find_one'\n",
    "\n",
    "print(f'Remanining number of documents: {establishments.count_documents({})}')\n",
    "print(\"-------------------------------------------------------------------------\")\n",
    "\n",
    "pprint(establishments.find_one())\n"
   ]
  },
  {
   "cell_type": "markdown",
   "id": "e9f1662d",
   "metadata": {},
   "source": [
    "5. Some of the number values are stored as strings, when they should be stored as numbers."
   ]
  },
  {
   "cell_type": "markdown",
   "id": "c46df2df",
   "metadata": {},
   "source": [
    "Use `update_many` to convert `latitude` and `longitude` to decimal numbers."
   ]
  },
  {
   "cell_type": "code",
   "execution_count": 49,
   "id": "fd4112ce",
   "metadata": {},
   "outputs": [
    {
     "data": {
      "text/plain": [
       "<pymongo.results.UpdateResult at 0x1d9041e3ac0>"
      ]
     },
     "execution_count": 49,
     "metadata": {},
     "output_type": "execute_result"
    }
   ],
   "source": [
    "# Change the data type from String to Decimal for longitude and latitude\n",
    "\n",
    "establishments.update_many({},[{'$set': {'geocode.longitude':{'$toDouble':'$geocode.longitude'}}}])\n",
    "\n",
    "establishments.update_many({},[{'$set': {'geocode.latitude':{'$toDouble':'$geocode.latitude'}}}])\n",
    "    "
   ]
  },
  {
   "cell_type": "markdown",
   "id": "142e319c",
   "metadata": {},
   "source": [
    "Use `update_many` to convert `RatingValue` to integer numbers."
   ]
  },
  {
   "cell_type": "code",
   "execution_count": 51,
   "id": "04430a5b",
   "metadata": {},
   "outputs": [
    {
     "data": {
      "text/plain": [
       "<pymongo.results.UpdateResult at 0x1d90cdda1c0>"
      ]
     },
     "execution_count": 51,
     "metadata": {},
     "output_type": "execute_result"
    }
   ],
   "source": [
    "# Set non 1-5 Rating Values to Null\n",
    "non_ratings = [\"AwaitingInspection\", \"Awaiting Inspection\", \"AwaitingPublication\", \"Pass\", \"Exempt\"]\n",
    "establishments.update_many({\"RatingValue\": {\"$in\": non_ratings}}, [ {'$set':{ \"RatingValue\" : None}} ])"
   ]
  },
  {
   "cell_type": "code",
   "execution_count": 52,
   "id": "3a36fc6e",
   "metadata": {},
   "outputs": [],
   "source": [
    "# Change the data type from String to Integer for RatingValue\n",
    "\n",
    "rating_result = establishments.update_many({},[{'$set': {'RatingValue':{'$toInt':'$RatingValue'}}}])"
   ]
  },
  {
   "cell_type": "code",
   "execution_count": 56,
   "id": "2d4648f4",
   "metadata": {},
   "outputs": [
    {
     "name": "stdout",
     "output_type": "stream",
     "text": [
      "No. of modified documents for Rating:  34654\n"
     ]
    }
   ],
   "source": [
    "print(\"No. of modified documents for Rating: \" , rating_result.modified_count)"
   ]
  },
  {
   "cell_type": "code",
   "execution_count": 65,
   "id": "aadda88f",
   "metadata": {},
   "outputs": [
    {
     "name": "stdout",
     "output_type": "stream",
     "text": [
      "38786\n"
     ]
    }
   ],
   "source": [
    "print(establishments.count_documents({\"geocode\": {\"$type\": \"object\" }}))"
   ]
  },
  {
   "cell_type": "code",
   "execution_count": 81,
   "id": "ee297ad4",
   "metadata": {},
   "outputs": [
    {
     "name": "stdout",
     "output_type": "stream",
     "text": [
      "{'int': 34694, 'null': 4092}\n"
     ]
    }
   ],
   "source": [
    "#Checking data type for RatingValue \n",
    "#Counting the number of records per datatype for field RatingValue\n",
    "#value_type is a dictionary containing the data type and their number of occurences for field RatingValue\n",
    "value_type = {}\n",
    "\n",
    "result = establishments.aggregate([{\n",
    "            '$project' : {\n",
    "               'RatingValueType' : { '$type' : \"$RatingValue\" }\n",
    "            }\n",
    "            }])\n",
    "\n",
    "for row in result:\n",
    "    d_type = row['RatingValueType']\n",
    "    d_count = value_type.get(d_type) or 0\n",
    "    d_count = d_count + 1\n",
    "    value_type[d_type] = d_count\n",
    "\n",
    "print(value_type)"
   ]
  },
  {
   "cell_type": "code",
   "execution_count": 82,
   "id": "f42d05d4",
   "metadata": {},
   "outputs": [
    {
     "name": "stdout",
     "output_type": "stream",
     "text": [
      "For Latitude : {'double': 38786}\n",
      "For Longitude : {'double': 38786}\n"
     ]
    }
   ],
   "source": [
    "#Checking data type for coordinates\n",
    "#Counting the number of records per datatype for geocode \n",
    "#value_type is a dictionary containing the data type and their number of occurences for coordinates\n",
    "lat_type = {}\n",
    "long_type = {}\n",
    "\n",
    "result = establishments.aggregate([{\n",
    "            '$project' : {\n",
    "               'Longitude' : { '$type' : \"$geocode.longitude\" },\n",
    "               'Latitude' : { '$type' : \"$geocode.latitude\" } \n",
    "            }\n",
    "            }])\n",
    "\n",
    "for row in result:\n",
    "    lat_d_type = row['Latitude']\n",
    "    lng_d_type = row['Longitude']\n",
    "    \n",
    "    lat_d_count = lat_type.get(lat_d_type) or 0\n",
    "    lat_d_count = lat_d_count + 1\n",
    "    \n",
    "    lng_d_count = long_type.get(lng_d_type) or 0\n",
    "    lng_d_count = lng_d_count + 1\n",
    "    \n",
    "    lat_type[lat_d_type] = lat_d_count\n",
    "    long_type[lng_d_type] = lng_d_count\n",
    "   \n",
    "\n",
    "print(\"For Latitude :\" , lat_type)\n",
    "print(\"For Longitude :\" , long_type)\n"
   ]
  },
  {
   "cell_type": "code",
   "execution_count": null,
   "id": "e1c81880",
   "metadata": {},
   "outputs": [],
   "source": [
    "mongo.close()"
   ]
  }
 ],
 "metadata": {
  "kernelspec": {
   "display_name": "NoSQL(Mongo)",
   "language": "python",
   "name": "nosqlwork"
  },
  "language_info": {
   "codemirror_mode": {
    "name": "ipython",
    "version": 3
   },
   "file_extension": ".py",
   "mimetype": "text/x-python",
   "name": "python",
   "nbconvert_exporter": "python",
   "pygments_lexer": "ipython3",
   "version": "3.10.11"
  }
 },
 "nbformat": 4,
 "nbformat_minor": 5
}
