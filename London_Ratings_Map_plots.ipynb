{
 "cells": [
  {
   "cell_type": "code",
   "execution_count": 2,
   "id": "fe1bb66b",
   "metadata": {},
   "outputs": [],
   "source": [
    "import pandas as pd\n",
    "import plotly_express as px\n",
    "from datetime import datetime"
   ]
  },
  {
   "cell_type": "code",
   "execution_count": 3,
   "id": "b9ac39ac",
   "metadata": {},
   "outputs": [],
   "source": [
    "def parse_time(text):\n",
    "    \n",
    "    dt = datetime.strptime(text,\"%Y-%m-%dT00:00:00\")\n",
    "    return dt"
   ]
  },
  {
   "cell_type": "code",
   "execution_count": 4,
   "id": "e1732593",
   "metadata": {},
   "outputs": [
    {
     "data": {
      "text/html": [
       "<div>\n",
       "<style scoped>\n",
       "    .dataframe tbody tr th:only-of-type {\n",
       "        vertical-align: middle;\n",
       "    }\n",
       "\n",
       "    .dataframe tbody tr th {\n",
       "        vertical-align: top;\n",
       "    }\n",
       "\n",
       "    .dataframe thead th {\n",
       "        text-align: right;\n",
       "    }\n",
       "</style>\n",
       "<table border=\"1\" class=\"dataframe\">\n",
       "  <thead>\n",
       "    <tr style=\"text-align: right;\">\n",
       "      <th></th>\n",
       "      <th>BusinessName</th>\n",
       "      <th>RatingValue</th>\n",
       "      <th>RatingDate</th>\n",
       "      <th>Hygiene</th>\n",
       "      <th>Structural</th>\n",
       "      <th>ConfidenceInManagement</th>\n",
       "      <th>longitude</th>\n",
       "      <th>latitude</th>\n",
       "    </tr>\n",
       "  </thead>\n",
       "  <tbody>\n",
       "    <tr>\n",
       "      <th>0</th>\n",
       "      <td>Charlie's</td>\n",
       "      <td>4.0</td>\n",
       "      <td>2021-10-18T00:00:00</td>\n",
       "      <td>5.0</td>\n",
       "      <td>10.0</td>\n",
       "      <td>5.0</td>\n",
       "      <td>0.508551</td>\n",
       "      <td>51.369321</td>\n",
       "    </tr>\n",
       "    <tr>\n",
       "      <th>1</th>\n",
       "      <td>Mv City Cruises Erasmus</td>\n",
       "      <td>5.0</td>\n",
       "      <td>2021-05-14T00:00:00</td>\n",
       "      <td>0.0</td>\n",
       "      <td>5.0</td>\n",
       "      <td>0.0</td>\n",
       "      <td>0.249256</td>\n",
       "      <td>51.123623</td>\n",
       "    </tr>\n",
       "    <tr>\n",
       "      <th>2</th>\n",
       "      <td>Benfleet Motor Yacht Club</td>\n",
       "      <td>4.0</td>\n",
       "      <td>2018-11-02T00:00:00</td>\n",
       "      <td>0.0</td>\n",
       "      <td>0.0</td>\n",
       "      <td>10.0</td>\n",
       "      <td>0.561954</td>\n",
       "      <td>51.543831</td>\n",
       "    </tr>\n",
       "    <tr>\n",
       "      <th>3</th>\n",
       "      <td>Gourmet Kitchen</td>\n",
       "      <td>3.0</td>\n",
       "      <td>2022-05-05T00:00:00</td>\n",
       "      <td>5.0</td>\n",
       "      <td>10.0</td>\n",
       "      <td>10.0</td>\n",
       "      <td>0.459637</td>\n",
       "      <td>51.510066</td>\n",
       "    </tr>\n",
       "    <tr>\n",
       "      <th>4</th>\n",
       "      <td>Coombs Catering t/a The Lock and Key</td>\n",
       "      <td>5.0</td>\n",
       "      <td>2020-12-04T00:00:00</td>\n",
       "      <td>0.0</td>\n",
       "      <td>5.0</td>\n",
       "      <td>0.0</td>\n",
       "      <td>0.346337</td>\n",
       "      <td>51.464066</td>\n",
       "    </tr>\n",
       "  </tbody>\n",
       "</table>\n",
       "</div>"
      ],
      "text/plain": [
       "                           BusinessName  RatingValue           RatingDate  \\\n",
       "0                             Charlie's          4.0  2021-10-18T00:00:00   \n",
       "1               Mv City Cruises Erasmus          5.0  2021-05-14T00:00:00   \n",
       "2             Benfleet Motor Yacht Club          4.0  2018-11-02T00:00:00   \n",
       "3                       Gourmet Kitchen          3.0  2022-05-05T00:00:00   \n",
       "4  Coombs Catering t/a The Lock and Key          5.0  2020-12-04T00:00:00   \n",
       "\n",
       "   Hygiene  Structural  ConfidenceInManagement  longitude   latitude  \n",
       "0      5.0        10.0                     5.0   0.508551  51.369321  \n",
       "1      0.0         5.0                     0.0   0.249256  51.123623  \n",
       "2      0.0         0.0                    10.0   0.561954  51.543831  \n",
       "3      5.0        10.0                    10.0   0.459637  51.510066  \n",
       "4      0.0         5.0                     0.0   0.346337  51.464066  "
      ]
     },
     "execution_count": 4,
     "metadata": {},
     "output_type": "execute_result"
    }
   ],
   "source": [
    "datafile = \"london_ratings.csv\"\n",
    "\n",
    "london_df = pd.read_csv(datafile,sep=',')\n",
    "\n",
    "london_df.head()"
   ]
  },
  {
   "cell_type": "code",
   "execution_count": 5,
   "id": "375c1067",
   "metadata": {},
   "outputs": [
    {
     "data": {
      "text/html": [
       "<div>\n",
       "<style scoped>\n",
       "    .dataframe tbody tr th:only-of-type {\n",
       "        vertical-align: middle;\n",
       "    }\n",
       "\n",
       "    .dataframe tbody tr th {\n",
       "        vertical-align: top;\n",
       "    }\n",
       "\n",
       "    .dataframe thead th {\n",
       "        text-align: right;\n",
       "    }\n",
       "</style>\n",
       "<table border=\"1\" class=\"dataframe\">\n",
       "  <thead>\n",
       "    <tr style=\"text-align: right;\">\n",
       "      <th></th>\n",
       "      <th>BusinessName</th>\n",
       "      <th>RatingValue</th>\n",
       "      <th>RatingDate</th>\n",
       "      <th>Hygiene</th>\n",
       "      <th>Structural</th>\n",
       "      <th>ConfidenceInManagement</th>\n",
       "      <th>longitude</th>\n",
       "      <th>latitude</th>\n",
       "    </tr>\n",
       "  </thead>\n",
       "  <tbody>\n",
       "    <tr>\n",
       "      <th>0</th>\n",
       "      <td>Charlie's</td>\n",
       "      <td>4.0</td>\n",
       "      <td>2021-10-18</td>\n",
       "      <td>5.0</td>\n",
       "      <td>10.0</td>\n",
       "      <td>5.0</td>\n",
       "      <td>0.508551</td>\n",
       "      <td>51.369321</td>\n",
       "    </tr>\n",
       "    <tr>\n",
       "      <th>1</th>\n",
       "      <td>Mv City Cruises Erasmus</td>\n",
       "      <td>5.0</td>\n",
       "      <td>2021-05-14</td>\n",
       "      <td>0.0</td>\n",
       "      <td>5.0</td>\n",
       "      <td>0.0</td>\n",
       "      <td>0.249256</td>\n",
       "      <td>51.123623</td>\n",
       "    </tr>\n",
       "    <tr>\n",
       "      <th>2</th>\n",
       "      <td>Benfleet Motor Yacht Club</td>\n",
       "      <td>4.0</td>\n",
       "      <td>2018-11-02</td>\n",
       "      <td>0.0</td>\n",
       "      <td>0.0</td>\n",
       "      <td>10.0</td>\n",
       "      <td>0.561954</td>\n",
       "      <td>51.543831</td>\n",
       "    </tr>\n",
       "    <tr>\n",
       "      <th>3</th>\n",
       "      <td>Gourmet Kitchen</td>\n",
       "      <td>3.0</td>\n",
       "      <td>2022-05-05</td>\n",
       "      <td>5.0</td>\n",
       "      <td>10.0</td>\n",
       "      <td>10.0</td>\n",
       "      <td>0.459637</td>\n",
       "      <td>51.510066</td>\n",
       "    </tr>\n",
       "    <tr>\n",
       "      <th>4</th>\n",
       "      <td>Coombs Catering t/a The Lock and Key</td>\n",
       "      <td>5.0</td>\n",
       "      <td>2020-12-04</td>\n",
       "      <td>0.0</td>\n",
       "      <td>5.0</td>\n",
       "      <td>0.0</td>\n",
       "      <td>0.346337</td>\n",
       "      <td>51.464066</td>\n",
       "    </tr>\n",
       "  </tbody>\n",
       "</table>\n",
       "</div>"
      ],
      "text/plain": [
       "                           BusinessName  RatingValue RatingDate  Hygiene  \\\n",
       "0                             Charlie's          4.0 2021-10-18      5.0   \n",
       "1               Mv City Cruises Erasmus          5.0 2021-05-14      0.0   \n",
       "2             Benfleet Motor Yacht Club          4.0 2018-11-02      0.0   \n",
       "3                       Gourmet Kitchen          3.0 2022-05-05      5.0   \n",
       "4  Coombs Catering t/a The Lock and Key          5.0 2020-12-04      0.0   \n",
       "\n",
       "   Structural  ConfidenceInManagement  longitude   latitude  \n",
       "0        10.0                     5.0   0.508551  51.369321  \n",
       "1         5.0                     0.0   0.249256  51.123623  \n",
       "2         0.0                    10.0   0.561954  51.543831  \n",
       "3        10.0                    10.0   0.459637  51.510066  \n",
       "4         5.0                     0.0   0.346337  51.464066  "
      ]
     },
     "execution_count": 5,
     "metadata": {},
     "output_type": "execute_result"
    }
   ],
   "source": [
    "london_df.dropna(inplace=True)\n",
    "\n",
    "london_df['RatingDate'] = london_df['RatingDate'].apply(parse_time)\n",
    "\n",
    "london_df.head()"
   ]
  },
  {
   "cell_type": "code",
   "execution_count": 20,
   "id": "2d738582",
   "metadata": {},
   "outputs": [
    {
     "data": {
      "text/html": [
       "<div>\n",
       "<style scoped>\n",
       "    .dataframe tbody tr th:only-of-type {\n",
       "        vertical-align: middle;\n",
       "    }\n",
       "\n",
       "    .dataframe tbody tr th {\n",
       "        vertical-align: top;\n",
       "    }\n",
       "\n",
       "    .dataframe thead th {\n",
       "        text-align: right;\n",
       "    }\n",
       "</style>\n",
       "<table border=\"1\" class=\"dataframe\">\n",
       "  <thead>\n",
       "    <tr style=\"text-align: right;\">\n",
       "      <th></th>\n",
       "      <th>BusinessName</th>\n",
       "      <th>RatingValue</th>\n",
       "      <th>RatingDate</th>\n",
       "      <th>Hygiene</th>\n",
       "      <th>Structural</th>\n",
       "      <th>ConfidenceInManagement</th>\n",
       "      <th>longitude</th>\n",
       "      <th>latitude</th>\n",
       "      <th>Rating_Rank</th>\n",
       "    </tr>\n",
       "  </thead>\n",
       "  <tbody>\n",
       "    <tr>\n",
       "      <th>0</th>\n",
       "      <td>Charlie's</td>\n",
       "      <td>4.0</td>\n",
       "      <td>2021-10-18</td>\n",
       "      <td>5.0</td>\n",
       "      <td>10.0</td>\n",
       "      <td>5.0</td>\n",
       "      <td>0.508551</td>\n",
       "      <td>51.369321</td>\n",
       "      <td>2.0</td>\n",
       "    </tr>\n",
       "    <tr>\n",
       "      <th>1</th>\n",
       "      <td>Mv City Cruises Erasmus</td>\n",
       "      <td>5.0</td>\n",
       "      <td>2021-05-14</td>\n",
       "      <td>0.0</td>\n",
       "      <td>5.0</td>\n",
       "      <td>0.0</td>\n",
       "      <td>0.249256</td>\n",
       "      <td>51.123623</td>\n",
       "      <td>1.0</td>\n",
       "    </tr>\n",
       "    <tr>\n",
       "      <th>2</th>\n",
       "      <td>Benfleet Motor Yacht Club</td>\n",
       "      <td>4.0</td>\n",
       "      <td>2018-11-02</td>\n",
       "      <td>0.0</td>\n",
       "      <td>0.0</td>\n",
       "      <td>10.0</td>\n",
       "      <td>0.561954</td>\n",
       "      <td>51.543831</td>\n",
       "      <td>2.0</td>\n",
       "    </tr>\n",
       "    <tr>\n",
       "      <th>3</th>\n",
       "      <td>Gourmet Kitchen</td>\n",
       "      <td>3.0</td>\n",
       "      <td>2022-05-05</td>\n",
       "      <td>5.0</td>\n",
       "      <td>10.0</td>\n",
       "      <td>10.0</td>\n",
       "      <td>0.459637</td>\n",
       "      <td>51.510066</td>\n",
       "      <td>3.0</td>\n",
       "    </tr>\n",
       "    <tr>\n",
       "      <th>4</th>\n",
       "      <td>Coombs Catering t/a The Lock and Key</td>\n",
       "      <td>5.0</td>\n",
       "      <td>2020-12-04</td>\n",
       "      <td>0.0</td>\n",
       "      <td>5.0</td>\n",
       "      <td>0.0</td>\n",
       "      <td>0.346337</td>\n",
       "      <td>51.464066</td>\n",
       "      <td>1.0</td>\n",
       "    </tr>\n",
       "    <tr>\n",
       "      <th>5</th>\n",
       "      <td>Tilbury Seafarers Centre</td>\n",
       "      <td>5.0</td>\n",
       "      <td>2018-11-02</td>\n",
       "      <td>0.0</td>\n",
       "      <td>0.0</td>\n",
       "      <td>0.0</td>\n",
       "      <td>0.346325</td>\n",
       "      <td>51.464078</td>\n",
       "      <td>1.0</td>\n",
       "    </tr>\n",
       "    <tr>\n",
       "      <th>6</th>\n",
       "      <td>Mv Valulla</td>\n",
       "      <td>5.0</td>\n",
       "      <td>2016-08-23</td>\n",
       "      <td>0.0</td>\n",
       "      <td>0.0</td>\n",
       "      <td>0.0</td>\n",
       "      <td>0.287555</td>\n",
       "      <td>51.504071</td>\n",
       "      <td>1.0</td>\n",
       "    </tr>\n",
       "    <tr>\n",
       "      <th>8</th>\n",
       "      <td>Tereza Joanne</td>\n",
       "      <td>5.0</td>\n",
       "      <td>2021-07-09</td>\n",
       "      <td>0.0</td>\n",
       "      <td>5.0</td>\n",
       "      <td>5.0</td>\n",
       "      <td>0.069286</td>\n",
       "      <td>51.501121</td>\n",
       "      <td>1.0</td>\n",
       "    </tr>\n",
       "    <tr>\n",
       "      <th>9</th>\n",
       "      <td>Brick Lane Brews</td>\n",
       "      <td>4.0</td>\n",
       "      <td>2019-01-18</td>\n",
       "      <td>10.0</td>\n",
       "      <td>5.0</td>\n",
       "      <td>5.0</td>\n",
       "      <td>0.048006</td>\n",
       "      <td>51.503733</td>\n",
       "      <td>2.0</td>\n",
       "    </tr>\n",
       "    <tr>\n",
       "      <th>10</th>\n",
       "      <td>Pret A Manger</td>\n",
       "      <td>2.0</td>\n",
       "      <td>2021-12-06</td>\n",
       "      <td>5.0</td>\n",
       "      <td>15.0</td>\n",
       "      <td>5.0</td>\n",
       "      <td>0.048006</td>\n",
       "      <td>51.503733</td>\n",
       "      <td>4.0</td>\n",
       "    </tr>\n",
       "    <tr>\n",
       "      <th>11</th>\n",
       "      <td>The Nuance Group (UK) Limited</td>\n",
       "      <td>5.0</td>\n",
       "      <td>2017-07-17</td>\n",
       "      <td>0.0</td>\n",
       "      <td>0.0</td>\n",
       "      <td>0.0</td>\n",
       "      <td>0.047966</td>\n",
       "      <td>51.504112</td>\n",
       "      <td>1.0</td>\n",
       "    </tr>\n",
       "    <tr>\n",
       "      <th>12</th>\n",
       "      <td>Cabin Bar</td>\n",
       "      <td>2.0</td>\n",
       "      <td>2022-06-30</td>\n",
       "      <td>10.0</td>\n",
       "      <td>15.0</td>\n",
       "      <td>10.0</td>\n",
       "      <td>0.047966</td>\n",
       "      <td>51.504112</td>\n",
       "      <td>4.0</td>\n",
       "    </tr>\n",
       "    <tr>\n",
       "      <th>13</th>\n",
       "      <td>WH Smith</td>\n",
       "      <td>5.0</td>\n",
       "      <td>2017-07-17</td>\n",
       "      <td>0.0</td>\n",
       "      <td>0.0</td>\n",
       "      <td>0.0</td>\n",
       "      <td>0.047966</td>\n",
       "      <td>51.504112</td>\n",
       "      <td>1.0</td>\n",
       "    </tr>\n",
       "    <tr>\n",
       "      <th>14</th>\n",
       "      <td>City Bar &amp; Grill</td>\n",
       "      <td>5.0</td>\n",
       "      <td>2021-12-06</td>\n",
       "      <td>0.0</td>\n",
       "      <td>5.0</td>\n",
       "      <td>0.0</td>\n",
       "      <td>0.047966</td>\n",
       "      <td>51.504112</td>\n",
       "      <td>1.0</td>\n",
       "    </tr>\n",
       "    <tr>\n",
       "      <th>15</th>\n",
       "      <td>Jet Centre</td>\n",
       "      <td>5.0</td>\n",
       "      <td>2022-02-11</td>\n",
       "      <td>0.0</td>\n",
       "      <td>0.0</td>\n",
       "      <td>0.0</td>\n",
       "      <td>0.040518</td>\n",
       "      <td>51.504807</td>\n",
       "      <td>1.0</td>\n",
       "    </tr>\n",
       "    <tr>\n",
       "      <th>16</th>\n",
       "      <td>Caffè Nero</td>\n",
       "      <td>5.0</td>\n",
       "      <td>2021-11-12</td>\n",
       "      <td>5.0</td>\n",
       "      <td>5.0</td>\n",
       "      <td>0.0</td>\n",
       "      <td>0.040518</td>\n",
       "      <td>51.504808</td>\n",
       "      <td>1.0</td>\n",
       "    </tr>\n",
       "    <tr>\n",
       "      <th>17</th>\n",
       "      <td>Mv Sunborn Yacht Hotel</td>\n",
       "      <td>5.0</td>\n",
       "      <td>2021-11-19</td>\n",
       "      <td>5.0</td>\n",
       "      <td>5.0</td>\n",
       "      <td>5.0</td>\n",
       "      <td>0.027107</td>\n",
       "      <td>51.508170</td>\n",
       "      <td>1.0</td>\n",
       "    </tr>\n",
       "    <tr>\n",
       "      <th>18</th>\n",
       "      <td>Good Hotel London</td>\n",
       "      <td>5.0</td>\n",
       "      <td>2021-07-16</td>\n",
       "      <td>5.0</td>\n",
       "      <td>5.0</td>\n",
       "      <td>5.0</td>\n",
       "      <td>0.017920</td>\n",
       "      <td>51.507681</td>\n",
       "      <td>1.0</td>\n",
       "    </tr>\n",
       "    <tr>\n",
       "      <th>19</th>\n",
       "      <td>La Nonna lina</td>\n",
       "      <td>4.0</td>\n",
       "      <td>2021-10-01</td>\n",
       "      <td>0.0</td>\n",
       "      <td>10.0</td>\n",
       "      <td>5.0</td>\n",
       "      <td>0.015755</td>\n",
       "      <td>51.505981</td>\n",
       "      <td>2.0</td>\n",
       "    </tr>\n",
       "    <tr>\n",
       "      <th>20</th>\n",
       "      <td>Wake Up Docklands Limited</td>\n",
       "      <td>5.0</td>\n",
       "      <td>2018-11-05</td>\n",
       "      <td>0.0</td>\n",
       "      <td>0.0</td>\n",
       "      <td>0.0</td>\n",
       "      <td>0.015742</td>\n",
       "      <td>51.505992</td>\n",
       "      <td>1.0</td>\n",
       "    </tr>\n",
       "    <tr>\n",
       "      <th>21</th>\n",
       "      <td>MV Venus Clipper</td>\n",
       "      <td>5.0</td>\n",
       "      <td>2022-02-25</td>\n",
       "      <td>0.0</td>\n",
       "      <td>0.0</td>\n",
       "      <td>0.0</td>\n",
       "      <td>0.008908</td>\n",
       "      <td>51.507772</td>\n",
       "      <td>1.0</td>\n",
       "    </tr>\n",
       "    <tr>\n",
       "      <th>22</th>\n",
       "      <td>MV Typhoon clipper</td>\n",
       "      <td>5.0</td>\n",
       "      <td>2018-12-14</td>\n",
       "      <td>0.0</td>\n",
       "      <td>0.0</td>\n",
       "      <td>0.0</td>\n",
       "      <td>0.007816</td>\n",
       "      <td>51.508259</td>\n",
       "      <td>1.0</td>\n",
       "    </tr>\n",
       "    <tr>\n",
       "      <th>23</th>\n",
       "      <td>MV Moon clipper</td>\n",
       "      <td>5.0</td>\n",
       "      <td>2018-09-25</td>\n",
       "      <td>0.0</td>\n",
       "      <td>0.0</td>\n",
       "      <td>0.0</td>\n",
       "      <td>0.007816</td>\n",
       "      <td>51.508259</td>\n",
       "      <td>1.0</td>\n",
       "    </tr>\n",
       "    <tr>\n",
       "      <th>24</th>\n",
       "      <td>MV Jupiter clipper</td>\n",
       "      <td>5.0</td>\n",
       "      <td>2018-12-14</td>\n",
       "      <td>0.0</td>\n",
       "      <td>0.0</td>\n",
       "      <td>0.0</td>\n",
       "      <td>0.007816</td>\n",
       "      <td>51.508259</td>\n",
       "      <td>1.0</td>\n",
       "    </tr>\n",
       "    <tr>\n",
       "      <th>25</th>\n",
       "      <td>MV Monsoon clipper</td>\n",
       "      <td>5.0</td>\n",
       "      <td>2018-12-14</td>\n",
       "      <td>0.0</td>\n",
       "      <td>0.0</td>\n",
       "      <td>0.0</td>\n",
       "      <td>0.007816</td>\n",
       "      <td>51.508259</td>\n",
       "      <td>1.0</td>\n",
       "    </tr>\n",
       "    <tr>\n",
       "      <th>26</th>\n",
       "      <td>MV Tornado clipper</td>\n",
       "      <td>5.0</td>\n",
       "      <td>2018-05-02</td>\n",
       "      <td>0.0</td>\n",
       "      <td>0.0</td>\n",
       "      <td>0.0</td>\n",
       "      <td>0.007816</td>\n",
       "      <td>51.508259</td>\n",
       "      <td>1.0</td>\n",
       "    </tr>\n",
       "    <tr>\n",
       "      <th>27</th>\n",
       "      <td>MV Meteor clipper</td>\n",
       "      <td>5.0</td>\n",
       "      <td>2018-12-14</td>\n",
       "      <td>0.0</td>\n",
       "      <td>0.0</td>\n",
       "      <td>0.0</td>\n",
       "      <td>0.007816</td>\n",
       "      <td>51.508259</td>\n",
       "      <td>1.0</td>\n",
       "    </tr>\n",
       "    <tr>\n",
       "      <th>28</th>\n",
       "      <td>MV Mercury clipper</td>\n",
       "      <td>5.0</td>\n",
       "      <td>2018-12-14</td>\n",
       "      <td>0.0</td>\n",
       "      <td>0.0</td>\n",
       "      <td>0.0</td>\n",
       "      <td>0.007816</td>\n",
       "      <td>51.508259</td>\n",
       "      <td>1.0</td>\n",
       "    </tr>\n",
       "    <tr>\n",
       "      <th>29</th>\n",
       "      <td>MV Cyclone clipper</td>\n",
       "      <td>5.0</td>\n",
       "      <td>2018-12-14</td>\n",
       "      <td>0.0</td>\n",
       "      <td>0.0</td>\n",
       "      <td>0.0</td>\n",
       "      <td>0.007816</td>\n",
       "      <td>51.508259</td>\n",
       "      <td>1.0</td>\n",
       "    </tr>\n",
       "    <tr>\n",
       "      <th>30</th>\n",
       "      <td>MV Hurricane clipper</td>\n",
       "      <td>5.0</td>\n",
       "      <td>2018-12-14</td>\n",
       "      <td>0.0</td>\n",
       "      <td>0.0</td>\n",
       "      <td>0.0</td>\n",
       "      <td>0.007816</td>\n",
       "      <td>51.508259</td>\n",
       "      <td>1.0</td>\n",
       "    </tr>\n",
       "    <tr>\n",
       "      <th>31</th>\n",
       "      <td>MV Neptune clipper</td>\n",
       "      <td>5.0</td>\n",
       "      <td>2018-05-02</td>\n",
       "      <td>0.0</td>\n",
       "      <td>0.0</td>\n",
       "      <td>0.0</td>\n",
       "      <td>0.007816</td>\n",
       "      <td>51.508259</td>\n",
       "      <td>1.0</td>\n",
       "    </tr>\n",
       "    <tr>\n",
       "      <th>32</th>\n",
       "      <td>MV Galaxy clipper</td>\n",
       "      <td>5.0</td>\n",
       "      <td>2018-05-02</td>\n",
       "      <td>0.0</td>\n",
       "      <td>0.0</td>\n",
       "      <td>0.0</td>\n",
       "      <td>0.007816</td>\n",
       "      <td>51.508259</td>\n",
       "      <td>1.0</td>\n",
       "    </tr>\n",
       "    <tr>\n",
       "      <th>33</th>\n",
       "      <td>MV Sun clipper</td>\n",
       "      <td>5.0</td>\n",
       "      <td>2018-12-14</td>\n",
       "      <td>0.0</td>\n",
       "      <td>0.0</td>\n",
       "      <td>0.0</td>\n",
       "      <td>0.007816</td>\n",
       "      <td>51.508259</td>\n",
       "      <td>1.0</td>\n",
       "    </tr>\n",
       "    <tr>\n",
       "      <th>34</th>\n",
       "      <td>MV Aurora clipper</td>\n",
       "      <td>5.0</td>\n",
       "      <td>2021-12-03</td>\n",
       "      <td>0.0</td>\n",
       "      <td>0.0</td>\n",
       "      <td>0.0</td>\n",
       "      <td>0.007816</td>\n",
       "      <td>51.508259</td>\n",
       "      <td>1.0</td>\n",
       "    </tr>\n",
       "    <tr>\n",
       "      <th>35</th>\n",
       "      <td>Mv Storm Clipper</td>\n",
       "      <td>5.0</td>\n",
       "      <td>2019-01-11</td>\n",
       "      <td>0.0</td>\n",
       "      <td>0.0</td>\n",
       "      <td>0.0</td>\n",
       "      <td>0.007816</td>\n",
       "      <td>51.508259</td>\n",
       "      <td>1.0</td>\n",
       "    </tr>\n",
       "    <tr>\n",
       "      <th>36</th>\n",
       "      <td>Canary Wharf 1V</td>\n",
       "      <td>5.0</td>\n",
       "      <td>2022-02-25</td>\n",
       "      <td>0.0</td>\n",
       "      <td>0.0</td>\n",
       "      <td>0.0</td>\n",
       "      <td>0.007815</td>\n",
       "      <td>51.508259</td>\n",
       "      <td>1.0</td>\n",
       "    </tr>\n",
       "  </tbody>\n",
       "</table>\n",
       "</div>"
      ],
      "text/plain": [
       "                            BusinessName  RatingValue RatingDate  Hygiene  \\\n",
       "0                              Charlie's          4.0 2021-10-18      5.0   \n",
       "1                Mv City Cruises Erasmus          5.0 2021-05-14      0.0   \n",
       "2              Benfleet Motor Yacht Club          4.0 2018-11-02      0.0   \n",
       "3                        Gourmet Kitchen          3.0 2022-05-05      5.0   \n",
       "4   Coombs Catering t/a The Lock and Key          5.0 2020-12-04      0.0   \n",
       "5               Tilbury Seafarers Centre          5.0 2018-11-02      0.0   \n",
       "6                             Mv Valulla          5.0 2016-08-23      0.0   \n",
       "8                          Tereza Joanne          5.0 2021-07-09      0.0   \n",
       "9                       Brick Lane Brews          4.0 2019-01-18     10.0   \n",
       "10                         Pret A Manger          2.0 2021-12-06      5.0   \n",
       "11         The Nuance Group (UK) Limited          5.0 2017-07-17      0.0   \n",
       "12                             Cabin Bar          2.0 2022-06-30     10.0   \n",
       "13                              WH Smith          5.0 2017-07-17      0.0   \n",
       "14                      City Bar & Grill          5.0 2021-12-06      0.0   \n",
       "15                            Jet Centre          5.0 2022-02-11      0.0   \n",
       "16                            Caffè Nero          5.0 2021-11-12      5.0   \n",
       "17                Mv Sunborn Yacht Hotel          5.0 2021-11-19      5.0   \n",
       "18                     Good Hotel London          5.0 2021-07-16      5.0   \n",
       "19                         La Nonna lina          4.0 2021-10-01      0.0   \n",
       "20             Wake Up Docklands Limited          5.0 2018-11-05      0.0   \n",
       "21                      MV Venus Clipper          5.0 2022-02-25      0.0   \n",
       "22                    MV Typhoon clipper          5.0 2018-12-14      0.0   \n",
       "23                       MV Moon clipper          5.0 2018-09-25      0.0   \n",
       "24                    MV Jupiter clipper          5.0 2018-12-14      0.0   \n",
       "25                    MV Monsoon clipper          5.0 2018-12-14      0.0   \n",
       "26                    MV Tornado clipper          5.0 2018-05-02      0.0   \n",
       "27                     MV Meteor clipper          5.0 2018-12-14      0.0   \n",
       "28                    MV Mercury clipper          5.0 2018-12-14      0.0   \n",
       "29                    MV Cyclone clipper          5.0 2018-12-14      0.0   \n",
       "30                  MV Hurricane clipper          5.0 2018-12-14      0.0   \n",
       "31                    MV Neptune clipper          5.0 2018-05-02      0.0   \n",
       "32                     MV Galaxy clipper          5.0 2018-05-02      0.0   \n",
       "33                        MV Sun clipper          5.0 2018-12-14      0.0   \n",
       "34                     MV Aurora clipper          5.0 2021-12-03      0.0   \n",
       "35                      Mv Storm Clipper          5.0 2019-01-11      0.0   \n",
       "36                       Canary Wharf 1V          5.0 2022-02-25      0.0   \n",
       "\n",
       "    Structural  ConfidenceInManagement  longitude   latitude  Rating_Rank  \n",
       "0         10.0                     5.0   0.508551  51.369321          2.0  \n",
       "1          5.0                     0.0   0.249256  51.123623          1.0  \n",
       "2          0.0                    10.0   0.561954  51.543831          2.0  \n",
       "3         10.0                    10.0   0.459637  51.510066          3.0  \n",
       "4          5.0                     0.0   0.346337  51.464066          1.0  \n",
       "5          0.0                     0.0   0.346325  51.464078          1.0  \n",
       "6          0.0                     0.0   0.287555  51.504071          1.0  \n",
       "8          5.0                     5.0   0.069286  51.501121          1.0  \n",
       "9          5.0                     5.0   0.048006  51.503733          2.0  \n",
       "10        15.0                     5.0   0.048006  51.503733          4.0  \n",
       "11         0.0                     0.0   0.047966  51.504112          1.0  \n",
       "12        15.0                    10.0   0.047966  51.504112          4.0  \n",
       "13         0.0                     0.0   0.047966  51.504112          1.0  \n",
       "14         5.0                     0.0   0.047966  51.504112          1.0  \n",
       "15         0.0                     0.0   0.040518  51.504807          1.0  \n",
       "16         5.0                     0.0   0.040518  51.504808          1.0  \n",
       "17         5.0                     5.0   0.027107  51.508170          1.0  \n",
       "18         5.0                     5.0   0.017920  51.507681          1.0  \n",
       "19        10.0                     5.0   0.015755  51.505981          2.0  \n",
       "20         0.0                     0.0   0.015742  51.505992          1.0  \n",
       "21         0.0                     0.0   0.008908  51.507772          1.0  \n",
       "22         0.0                     0.0   0.007816  51.508259          1.0  \n",
       "23         0.0                     0.0   0.007816  51.508259          1.0  \n",
       "24         0.0                     0.0   0.007816  51.508259          1.0  \n",
       "25         0.0                     0.0   0.007816  51.508259          1.0  \n",
       "26         0.0                     0.0   0.007816  51.508259          1.0  \n",
       "27         0.0                     0.0   0.007816  51.508259          1.0  \n",
       "28         0.0                     0.0   0.007816  51.508259          1.0  \n",
       "29         0.0                     0.0   0.007816  51.508259          1.0  \n",
       "30         0.0                     0.0   0.007816  51.508259          1.0  \n",
       "31         0.0                     0.0   0.007816  51.508259          1.0  \n",
       "32         0.0                     0.0   0.007816  51.508259          1.0  \n",
       "33         0.0                     0.0   0.007816  51.508259          1.0  \n",
       "34         0.0                     0.0   0.007816  51.508259          1.0  \n",
       "35         0.0                     0.0   0.007816  51.508259          1.0  \n",
       "36         0.0                     0.0   0.007815  51.508259          1.0  "
      ]
     },
     "execution_count": 20,
     "metadata": {},
     "output_type": "execute_result"
    }
   ],
   "source": [
    "london_df['Rating_Rank'] = london_df['RatingValue'].rank(method='dense',ascending=False)\n",
    "\n",
    "london_df.head(50)"
   ]
  },
  {
   "cell_type": "code",
   "execution_count": 26,
   "id": "568f3d1d",
   "metadata": {},
   "outputs": [
    {
     "data": {
      "text/plain": [
       "BusinessName                      object\n",
       "RatingValue                      float64\n",
       "RatingDate                datetime64[ns]\n",
       "Hygiene                          float64\n",
       "Structural                       float64\n",
       "ConfidenceInManagement           float64\n",
       "longitude                        float64\n",
       "latitude                         float64\n",
       "Rating_Rank                      float64\n",
       "dtype: object"
      ]
     },
     "execution_count": 26,
     "metadata": {},
     "output_type": "execute_result"
    }
   ],
   "source": [
    "london_df.dtypes"
   ]
  },
  {
   "cell_type": "code",
   "execution_count": 43,
   "id": "2d9991d2",
   "metadata": {},
   "outputs": [
    {
     "data": {
      "application/vnd.plotly.v1+json": {
       "config": {
        "plotlyServerURL": "https://plot.ly"
       },
       "data": [
        {
         "hovertemplate": "Rating_Rank=%{marker.size}<br>latitude=%{lat}<br>longitude=%{lon}<extra></extra>",
         "lat": [
          51.369321,
          51.1236228942871,
          51.543831,
          51.5100659,
          51.4640655517578,
          51.464078,
          51.504071,
          51.501121,
          51.503733,
          51.503733,
          51.504112,
          51.504112,
          51.5041122436523,
          51.5041122436523,
          51.5048065185547,
          51.504808,
          51.50817,
          51.507681,
          51.5059814453125,
          51.505992,
          51.507771887145,
          51.508259,
          51.5082588195801,
          51.508259,
          51.508259,
          51.508259,
          51.508259,
          51.5082588195801,
          51.508259,
          51.508259,
          51.508259,
          51.508259,
          51.5082588195801,
          51.508259,
          51.508259,
          51.508259
         ],
         "legendgroup": "",
         "lon": [
          0.508551,
          0.249255999922752,
          0.561954,
          0.4596371,
          0.346336990594864,
          0.346325,
          0.287555,
          0.069286,
          0.048006,
          0.048006,
          0.047966,
          0.047966,
          0.0479655750095844,
          0.0479655750095844,
          0.0405181497335434,
          0.040518,
          0.027107,
          0.01792,
          0.0157549995929003,
          0.015742,
          0.0089080067362953,
          0.007816,
          0.0078159999102354,
          0.007816,
          0.007816,
          0.007816,
          0.007816,
          0.0078159999102354,
          0.007816,
          0.007816,
          0.007816,
          0.007816,
          0.0078159999102354,
          0.007816,
          0.007816,
          0.007815
         ],
         "marker": {
          "color": "#636efa",
          "opacity": 0.5,
          "size": [
           2,
           1,
           2,
           3,
           1,
           1,
           1,
           1,
           2,
           4,
           1,
           4,
           1,
           1,
           1,
           1,
           1,
           1,
           2,
           1,
           1,
           1,
           1,
           1,
           1,
           1,
           1,
           1,
           1,
           1,
           1,
           1,
           1,
           1,
           1,
           1
          ],
          "sizemode": "area",
          "sizeref": 0.01
         },
         "mode": "markers",
         "name": "",
         "showlegend": false,
         "subplot": "mapbox",
         "type": "scattermapbox"
        },
        {
         "lat": [
          51.369321,
          51.1236228942871,
          51.543831,
          51.5100659,
          51.4640655517578,
          51.464078,
          51.504071,
          51.501121,
          51.503733,
          51.503733,
          51.504112,
          51.504112,
          51.5041122436523,
          51.5041122436523,
          51.5048065185547,
          51.504808,
          51.50817,
          51.507681,
          51.5059814453125,
          51.505992,
          51.507771887145,
          51.508259,
          51.5082588195801,
          51.508259,
          51.508259,
          51.508259,
          51.508259,
          51.5082588195801,
          51.508259,
          51.508259,
          51.508259,
          51.508259,
          51.5082588195801,
          51.508259,
          51.508259,
          51.508259
         ],
         "lon": [
          0.508551,
          0.249255999922752,
          0.561954,
          0.4596371,
          0.346336990594864,
          0.346325,
          0.287555,
          0.069286,
          0.048006,
          0.048006,
          0.047966,
          0.047966,
          0.0479655750095844,
          0.0479655750095844,
          0.0405181497335434,
          0.040518,
          0.027107,
          0.01792,
          0.0157549995929003,
          0.015742,
          0.0089080067362953,
          0.007816,
          0.0078159999102354,
          0.007816,
          0.007816,
          0.007816,
          0.007816,
          0.0078159999102354,
          0.007816,
          0.007816,
          0.007816,
          0.007816,
          0.0078159999102354,
          0.007816,
          0.007816,
          0.007815
         ],
         "marker": {
          "size": [
           25,
           0,
           0,
           25,
           0,
           0,
           0,
           0,
           50,
           25,
           0,
           50,
           0,
           0,
           0,
           25,
           25,
           25,
           0,
           0,
           0,
           0,
           0,
           0,
           0,
           0,
           0,
           0,
           0,
           0,
           0,
           0,
           0,
           0,
           0,
           0
          ]
         },
         "name": "Hygiene",
         "opacity": 0.5,
         "type": "scattermapbox"
        }
       ],
       "layout": {
        "legend": {
         "itemsizing": "constant",
         "tracegroupgap": 0
        },
        "mapbox": {
         "center": {
          "lat": 51.50817,
          "lon": 0.027107
         },
         "domain": {
          "x": [
           0,
           1
          ],
          "y": [
           0,
           1
          ]
         },
         "style": "stamen-toner",
         "zoom": 12
        },
        "template": {
         "data": {
          "bar": [
           {
            "error_x": {
             "color": "#2a3f5f"
            },
            "error_y": {
             "color": "#2a3f5f"
            },
            "marker": {
             "line": {
              "color": "#E5ECF6",
              "width": 0.5
             },
             "pattern": {
              "fillmode": "overlay",
              "size": 10,
              "solidity": 0.2
             }
            },
            "type": "bar"
           }
          ],
          "barpolar": [
           {
            "marker": {
             "line": {
              "color": "#E5ECF6",
              "width": 0.5
             },
             "pattern": {
              "fillmode": "overlay",
              "size": 10,
              "solidity": 0.2
             }
            },
            "type": "barpolar"
           }
          ],
          "carpet": [
           {
            "aaxis": {
             "endlinecolor": "#2a3f5f",
             "gridcolor": "white",
             "linecolor": "white",
             "minorgridcolor": "white",
             "startlinecolor": "#2a3f5f"
            },
            "baxis": {
             "endlinecolor": "#2a3f5f",
             "gridcolor": "white",
             "linecolor": "white",
             "minorgridcolor": "white",
             "startlinecolor": "#2a3f5f"
            },
            "type": "carpet"
           }
          ],
          "choropleth": [
           {
            "colorbar": {
             "outlinewidth": 0,
             "ticks": ""
            },
            "type": "choropleth"
           }
          ],
          "contour": [
           {
            "colorbar": {
             "outlinewidth": 0,
             "ticks": ""
            },
            "colorscale": [
             [
              0,
              "#0d0887"
             ],
             [
              0.1111111111111111,
              "#46039f"
             ],
             [
              0.2222222222222222,
              "#7201a8"
             ],
             [
              0.3333333333333333,
              "#9c179e"
             ],
             [
              0.4444444444444444,
              "#bd3786"
             ],
             [
              0.5555555555555556,
              "#d8576b"
             ],
             [
              0.6666666666666666,
              "#ed7953"
             ],
             [
              0.7777777777777778,
              "#fb9f3a"
             ],
             [
              0.8888888888888888,
              "#fdca26"
             ],
             [
              1,
              "#f0f921"
             ]
            ],
            "type": "contour"
           }
          ],
          "contourcarpet": [
           {
            "colorbar": {
             "outlinewidth": 0,
             "ticks": ""
            },
            "type": "contourcarpet"
           }
          ],
          "heatmap": [
           {
            "colorbar": {
             "outlinewidth": 0,
             "ticks": ""
            },
            "colorscale": [
             [
              0,
              "#0d0887"
             ],
             [
              0.1111111111111111,
              "#46039f"
             ],
             [
              0.2222222222222222,
              "#7201a8"
             ],
             [
              0.3333333333333333,
              "#9c179e"
             ],
             [
              0.4444444444444444,
              "#bd3786"
             ],
             [
              0.5555555555555556,
              "#d8576b"
             ],
             [
              0.6666666666666666,
              "#ed7953"
             ],
             [
              0.7777777777777778,
              "#fb9f3a"
             ],
             [
              0.8888888888888888,
              "#fdca26"
             ],
             [
              1,
              "#f0f921"
             ]
            ],
            "type": "heatmap"
           }
          ],
          "heatmapgl": [
           {
            "colorbar": {
             "outlinewidth": 0,
             "ticks": ""
            },
            "colorscale": [
             [
              0,
              "#0d0887"
             ],
             [
              0.1111111111111111,
              "#46039f"
             ],
             [
              0.2222222222222222,
              "#7201a8"
             ],
             [
              0.3333333333333333,
              "#9c179e"
             ],
             [
              0.4444444444444444,
              "#bd3786"
             ],
             [
              0.5555555555555556,
              "#d8576b"
             ],
             [
              0.6666666666666666,
              "#ed7953"
             ],
             [
              0.7777777777777778,
              "#fb9f3a"
             ],
             [
              0.8888888888888888,
              "#fdca26"
             ],
             [
              1,
              "#f0f921"
             ]
            ],
            "type": "heatmapgl"
           }
          ],
          "histogram": [
           {
            "marker": {
             "pattern": {
              "fillmode": "overlay",
              "size": 10,
              "solidity": 0.2
             }
            },
            "type": "histogram"
           }
          ],
          "histogram2d": [
           {
            "colorbar": {
             "outlinewidth": 0,
             "ticks": ""
            },
            "colorscale": [
             [
              0,
              "#0d0887"
             ],
             [
              0.1111111111111111,
              "#46039f"
             ],
             [
              0.2222222222222222,
              "#7201a8"
             ],
             [
              0.3333333333333333,
              "#9c179e"
             ],
             [
              0.4444444444444444,
              "#bd3786"
             ],
             [
              0.5555555555555556,
              "#d8576b"
             ],
             [
              0.6666666666666666,
              "#ed7953"
             ],
             [
              0.7777777777777778,
              "#fb9f3a"
             ],
             [
              0.8888888888888888,
              "#fdca26"
             ],
             [
              1,
              "#f0f921"
             ]
            ],
            "type": "histogram2d"
           }
          ],
          "histogram2dcontour": [
           {
            "colorbar": {
             "outlinewidth": 0,
             "ticks": ""
            },
            "colorscale": [
             [
              0,
              "#0d0887"
             ],
             [
              0.1111111111111111,
              "#46039f"
             ],
             [
              0.2222222222222222,
              "#7201a8"
             ],
             [
              0.3333333333333333,
              "#9c179e"
             ],
             [
              0.4444444444444444,
              "#bd3786"
             ],
             [
              0.5555555555555556,
              "#d8576b"
             ],
             [
              0.6666666666666666,
              "#ed7953"
             ],
             [
              0.7777777777777778,
              "#fb9f3a"
             ],
             [
              0.8888888888888888,
              "#fdca26"
             ],
             [
              1,
              "#f0f921"
             ]
            ],
            "type": "histogram2dcontour"
           }
          ],
          "mesh3d": [
           {
            "colorbar": {
             "outlinewidth": 0,
             "ticks": ""
            },
            "type": "mesh3d"
           }
          ],
          "parcoords": [
           {
            "line": {
             "colorbar": {
              "outlinewidth": 0,
              "ticks": ""
             }
            },
            "type": "parcoords"
           }
          ],
          "pie": [
           {
            "automargin": true,
            "type": "pie"
           }
          ],
          "scatter": [
           {
            "fillpattern": {
             "fillmode": "overlay",
             "size": 10,
             "solidity": 0.2
            },
            "type": "scatter"
           }
          ],
          "scatter3d": [
           {
            "line": {
             "colorbar": {
              "outlinewidth": 0,
              "ticks": ""
             }
            },
            "marker": {
             "colorbar": {
              "outlinewidth": 0,
              "ticks": ""
             }
            },
            "type": "scatter3d"
           }
          ],
          "scattercarpet": [
           {
            "marker": {
             "colorbar": {
              "outlinewidth": 0,
              "ticks": ""
             }
            },
            "type": "scattercarpet"
           }
          ],
          "scattergeo": [
           {
            "marker": {
             "colorbar": {
              "outlinewidth": 0,
              "ticks": ""
             }
            },
            "type": "scattergeo"
           }
          ],
          "scattergl": [
           {
            "marker": {
             "colorbar": {
              "outlinewidth": 0,
              "ticks": ""
             }
            },
            "type": "scattergl"
           }
          ],
          "scattermapbox": [
           {
            "marker": {
             "colorbar": {
              "outlinewidth": 0,
              "ticks": ""
             }
            },
            "type": "scattermapbox"
           }
          ],
          "scatterpolar": [
           {
            "marker": {
             "colorbar": {
              "outlinewidth": 0,
              "ticks": ""
             }
            },
            "type": "scatterpolar"
           }
          ],
          "scatterpolargl": [
           {
            "marker": {
             "colorbar": {
              "outlinewidth": 0,
              "ticks": ""
             }
            },
            "type": "scatterpolargl"
           }
          ],
          "scatterternary": [
           {
            "marker": {
             "colorbar": {
              "outlinewidth": 0,
              "ticks": ""
             }
            },
            "type": "scatterternary"
           }
          ],
          "surface": [
           {
            "colorbar": {
             "outlinewidth": 0,
             "ticks": ""
            },
            "colorscale": [
             [
              0,
              "#0d0887"
             ],
             [
              0.1111111111111111,
              "#46039f"
             ],
             [
              0.2222222222222222,
              "#7201a8"
             ],
             [
              0.3333333333333333,
              "#9c179e"
             ],
             [
              0.4444444444444444,
              "#bd3786"
             ],
             [
              0.5555555555555556,
              "#d8576b"
             ],
             [
              0.6666666666666666,
              "#ed7953"
             ],
             [
              0.7777777777777778,
              "#fb9f3a"
             ],
             [
              0.8888888888888888,
              "#fdca26"
             ],
             [
              1,
              "#f0f921"
             ]
            ],
            "type": "surface"
           }
          ],
          "table": [
           {
            "cells": {
             "fill": {
              "color": "#EBF0F8"
             },
             "line": {
              "color": "white"
             }
            },
            "header": {
             "fill": {
              "color": "#C8D4E3"
             },
             "line": {
              "color": "white"
             }
            },
            "type": "table"
           }
          ]
         },
         "layout": {
          "annotationdefaults": {
           "arrowcolor": "#2a3f5f",
           "arrowhead": 0,
           "arrowwidth": 1
          },
          "autotypenumbers": "strict",
          "coloraxis": {
           "colorbar": {
            "outlinewidth": 0,
            "ticks": ""
           }
          },
          "colorscale": {
           "diverging": [
            [
             0,
             "#8e0152"
            ],
            [
             0.1,
             "#c51b7d"
            ],
            [
             0.2,
             "#de77ae"
            ],
            [
             0.3,
             "#f1b6da"
            ],
            [
             0.4,
             "#fde0ef"
            ],
            [
             0.5,
             "#f7f7f7"
            ],
            [
             0.6,
             "#e6f5d0"
            ],
            [
             0.7,
             "#b8e186"
            ],
            [
             0.8,
             "#7fbc41"
            ],
            [
             0.9,
             "#4d9221"
            ],
            [
             1,
             "#276419"
            ]
           ],
           "sequential": [
            [
             0,
             "#0d0887"
            ],
            [
             0.1111111111111111,
             "#46039f"
            ],
            [
             0.2222222222222222,
             "#7201a8"
            ],
            [
             0.3333333333333333,
             "#9c179e"
            ],
            [
             0.4444444444444444,
             "#bd3786"
            ],
            [
             0.5555555555555556,
             "#d8576b"
            ],
            [
             0.6666666666666666,
             "#ed7953"
            ],
            [
             0.7777777777777778,
             "#fb9f3a"
            ],
            [
             0.8888888888888888,
             "#fdca26"
            ],
            [
             1,
             "#f0f921"
            ]
           ],
           "sequentialminus": [
            [
             0,
             "#0d0887"
            ],
            [
             0.1111111111111111,
             "#46039f"
            ],
            [
             0.2222222222222222,
             "#7201a8"
            ],
            [
             0.3333333333333333,
             "#9c179e"
            ],
            [
             0.4444444444444444,
             "#bd3786"
            ],
            [
             0.5555555555555556,
             "#d8576b"
            ],
            [
             0.6666666666666666,
             "#ed7953"
            ],
            [
             0.7777777777777778,
             "#fb9f3a"
            ],
            [
             0.8888888888888888,
             "#fdca26"
            ],
            [
             1,
             "#f0f921"
            ]
           ]
          },
          "colorway": [
           "#636efa",
           "#EF553B",
           "#00cc96",
           "#ab63fa",
           "#FFA15A",
           "#19d3f3",
           "#FF6692",
           "#B6E880",
           "#FF97FF",
           "#FECB52"
          ],
          "font": {
           "color": "#2a3f5f"
          },
          "geo": {
           "bgcolor": "white",
           "lakecolor": "white",
           "landcolor": "#E5ECF6",
           "showlakes": true,
           "showland": true,
           "subunitcolor": "white"
          },
          "hoverlabel": {
           "align": "left"
          },
          "hovermode": "closest",
          "mapbox": {
           "style": "light"
          },
          "paper_bgcolor": "white",
          "plot_bgcolor": "#E5ECF6",
          "polar": {
           "angularaxis": {
            "gridcolor": "white",
            "linecolor": "white",
            "ticks": ""
           },
           "bgcolor": "#E5ECF6",
           "radialaxis": {
            "gridcolor": "white",
            "linecolor": "white",
            "ticks": ""
           }
          },
          "scene": {
           "xaxis": {
            "backgroundcolor": "#E5ECF6",
            "gridcolor": "white",
            "gridwidth": 2,
            "linecolor": "white",
            "showbackground": true,
            "ticks": "",
            "zerolinecolor": "white"
           },
           "yaxis": {
            "backgroundcolor": "#E5ECF6",
            "gridcolor": "white",
            "gridwidth": 2,
            "linecolor": "white",
            "showbackground": true,
            "ticks": "",
            "zerolinecolor": "white"
           },
           "zaxis": {
            "backgroundcolor": "#E5ECF6",
            "gridcolor": "white",
            "gridwidth": 2,
            "linecolor": "white",
            "showbackground": true,
            "ticks": "",
            "zerolinecolor": "white"
           }
          },
          "shapedefaults": {
           "line": {
            "color": "#2a3f5f"
           }
          },
          "ternary": {
           "aaxis": {
            "gridcolor": "white",
            "linecolor": "white",
            "ticks": ""
           },
           "baxis": {
            "gridcolor": "white",
            "linecolor": "white",
            "ticks": ""
           },
           "bgcolor": "#E5ECF6",
           "caxis": {
            "gridcolor": "white",
            "linecolor": "white",
            "ticks": ""
           }
          },
          "title": {
           "x": 0.05
          },
          "xaxis": {
           "automargin": true,
           "gridcolor": "white",
           "linecolor": "white",
           "ticks": "",
           "title": {
            "standoff": 15
           },
           "zerolinecolor": "white",
           "zerolinewidth": 2
          },
          "yaxis": {
           "automargin": true,
           "gridcolor": "white",
           "linecolor": "white",
           "ticks": "",
           "title": {
            "standoff": 15
           },
           "zerolinecolor": "white",
           "zerolinewidth": 2
          }
         }
        },
        "title": {
         "text": "London establishments by Rating and Hygiene"
        }
       }
      },
      "text/html": [
       "<div>                            <div id=\"f66066df-a1a0-4246-94df-d4e138abff2f\" class=\"plotly-graph-div\" style=\"height:525px; width:100%;\"></div>            <script type=\"text/javascript\">                require([\"plotly\"], function(Plotly) {                    window.PLOTLYENV=window.PLOTLYENV || {};                                    if (document.getElementById(\"f66066df-a1a0-4246-94df-d4e138abff2f\")) {                    Plotly.newPlot(                        \"f66066df-a1a0-4246-94df-d4e138abff2f\",                        [{\"hovertemplate\":\"Rating_Rank=%{marker.size}<br>latitude=%{lat}<br>longitude=%{lon}<extra></extra>\",\"lat\":[51.369321,51.1236228942871,51.543831,51.5100659,51.4640655517578,51.464078,51.504071,51.501121,51.503733,51.503733,51.504112,51.504112,51.5041122436523,51.5041122436523,51.5048065185547,51.504808,51.50817,51.507681,51.5059814453125,51.505992,51.507771887145,51.508259,51.5082588195801,51.508259,51.508259,51.508259,51.508259,51.5082588195801,51.508259,51.508259,51.508259,51.508259,51.5082588195801,51.508259,51.508259,51.508259],\"legendgroup\":\"\",\"lon\":[0.508551,0.249255999922752,0.561954,0.4596371,0.346336990594864,0.346325,0.287555,0.069286,0.048006,0.048006,0.047966,0.047966,0.0479655750095844,0.0479655750095844,0.0405181497335434,0.040518,0.027107,0.01792,0.0157549995929003,0.015742,0.0089080067362953,0.007816,0.0078159999102354,0.007816,0.007816,0.007816,0.007816,0.0078159999102354,0.007816,0.007816,0.007816,0.007816,0.0078159999102354,0.007816,0.007816,0.007815],\"marker\":{\"color\":\"#636efa\",\"opacity\":0.5,\"size\":[2.0,1.0,2.0,3.0,1.0,1.0,1.0,1.0,2.0,4.0,1.0,4.0,1.0,1.0,1.0,1.0,1.0,1.0,2.0,1.0,1.0,1.0,1.0,1.0,1.0,1.0,1.0,1.0,1.0,1.0,1.0,1.0,1.0,1.0,1.0,1.0],\"sizemode\":\"area\",\"sizeref\":0.01},\"mode\":\"markers\",\"name\":\"\",\"showlegend\":false,\"subplot\":\"mapbox\",\"type\":\"scattermapbox\"},{\"lat\":[51.369321,51.1236228942871,51.543831,51.5100659,51.4640655517578,51.464078,51.504071,51.501121,51.503733,51.503733,51.504112,51.504112,51.5041122436523,51.5041122436523,51.5048065185547,51.504808,51.50817,51.507681,51.5059814453125,51.505992,51.507771887145,51.508259,51.5082588195801,51.508259,51.508259,51.508259,51.508259,51.5082588195801,51.508259,51.508259,51.508259,51.508259,51.5082588195801,51.508259,51.508259,51.508259],\"lon\":[0.508551,0.249255999922752,0.561954,0.4596371,0.346336990594864,0.346325,0.287555,0.069286,0.048006,0.048006,0.047966,0.047966,0.0479655750095844,0.0479655750095844,0.0405181497335434,0.040518,0.027107,0.01792,0.0157549995929003,0.015742,0.0089080067362953,0.007816,0.0078159999102354,0.007816,0.007816,0.007816,0.007816,0.0078159999102354,0.007816,0.007816,0.007816,0.007816,0.0078159999102354,0.007816,0.007816,0.007815],\"marker\":{\"size\":[25.0,0.0,0.0,25.0,0.0,0.0,0.0,0.0,50.0,25.0,0.0,50.0,0.0,0.0,0.0,25.0,25.0,25.0,0.0,0.0,0.0,0.0,0.0,0.0,0.0,0.0,0.0,0.0,0.0,0.0,0.0,0.0,0.0,0.0,0.0,0.0]},\"name\":\"Hygiene\",\"opacity\":0.5,\"type\":\"scattermapbox\"}],                        {\"template\":{\"data\":{\"histogram2dcontour\":[{\"type\":\"histogram2dcontour\",\"colorbar\":{\"outlinewidth\":0,\"ticks\":\"\"},\"colorscale\":[[0.0,\"#0d0887\"],[0.1111111111111111,\"#46039f\"],[0.2222222222222222,\"#7201a8\"],[0.3333333333333333,\"#9c179e\"],[0.4444444444444444,\"#bd3786\"],[0.5555555555555556,\"#d8576b\"],[0.6666666666666666,\"#ed7953\"],[0.7777777777777778,\"#fb9f3a\"],[0.8888888888888888,\"#fdca26\"],[1.0,\"#f0f921\"]]}],\"choropleth\":[{\"type\":\"choropleth\",\"colorbar\":{\"outlinewidth\":0,\"ticks\":\"\"}}],\"histogram2d\":[{\"type\":\"histogram2d\",\"colorbar\":{\"outlinewidth\":0,\"ticks\":\"\"},\"colorscale\":[[0.0,\"#0d0887\"],[0.1111111111111111,\"#46039f\"],[0.2222222222222222,\"#7201a8\"],[0.3333333333333333,\"#9c179e\"],[0.4444444444444444,\"#bd3786\"],[0.5555555555555556,\"#d8576b\"],[0.6666666666666666,\"#ed7953\"],[0.7777777777777778,\"#fb9f3a\"],[0.8888888888888888,\"#fdca26\"],[1.0,\"#f0f921\"]]}],\"heatmap\":[{\"type\":\"heatmap\",\"colorbar\":{\"outlinewidth\":0,\"ticks\":\"\"},\"colorscale\":[[0.0,\"#0d0887\"],[0.1111111111111111,\"#46039f\"],[0.2222222222222222,\"#7201a8\"],[0.3333333333333333,\"#9c179e\"],[0.4444444444444444,\"#bd3786\"],[0.5555555555555556,\"#d8576b\"],[0.6666666666666666,\"#ed7953\"],[0.7777777777777778,\"#fb9f3a\"],[0.8888888888888888,\"#fdca26\"],[1.0,\"#f0f921\"]]}],\"heatmapgl\":[{\"type\":\"heatmapgl\",\"colorbar\":{\"outlinewidth\":0,\"ticks\":\"\"},\"colorscale\":[[0.0,\"#0d0887\"],[0.1111111111111111,\"#46039f\"],[0.2222222222222222,\"#7201a8\"],[0.3333333333333333,\"#9c179e\"],[0.4444444444444444,\"#bd3786\"],[0.5555555555555556,\"#d8576b\"],[0.6666666666666666,\"#ed7953\"],[0.7777777777777778,\"#fb9f3a\"],[0.8888888888888888,\"#fdca26\"],[1.0,\"#f0f921\"]]}],\"contourcarpet\":[{\"type\":\"contourcarpet\",\"colorbar\":{\"outlinewidth\":0,\"ticks\":\"\"}}],\"contour\":[{\"type\":\"contour\",\"colorbar\":{\"outlinewidth\":0,\"ticks\":\"\"},\"colorscale\":[[0.0,\"#0d0887\"],[0.1111111111111111,\"#46039f\"],[0.2222222222222222,\"#7201a8\"],[0.3333333333333333,\"#9c179e\"],[0.4444444444444444,\"#bd3786\"],[0.5555555555555556,\"#d8576b\"],[0.6666666666666666,\"#ed7953\"],[0.7777777777777778,\"#fb9f3a\"],[0.8888888888888888,\"#fdca26\"],[1.0,\"#f0f921\"]]}],\"surface\":[{\"type\":\"surface\",\"colorbar\":{\"outlinewidth\":0,\"ticks\":\"\"},\"colorscale\":[[0.0,\"#0d0887\"],[0.1111111111111111,\"#46039f\"],[0.2222222222222222,\"#7201a8\"],[0.3333333333333333,\"#9c179e\"],[0.4444444444444444,\"#bd3786\"],[0.5555555555555556,\"#d8576b\"],[0.6666666666666666,\"#ed7953\"],[0.7777777777777778,\"#fb9f3a\"],[0.8888888888888888,\"#fdca26\"],[1.0,\"#f0f921\"]]}],\"mesh3d\":[{\"type\":\"mesh3d\",\"colorbar\":{\"outlinewidth\":0,\"ticks\":\"\"}}],\"scatter\":[{\"fillpattern\":{\"fillmode\":\"overlay\",\"size\":10,\"solidity\":0.2},\"type\":\"scatter\"}],\"parcoords\":[{\"type\":\"parcoords\",\"line\":{\"colorbar\":{\"outlinewidth\":0,\"ticks\":\"\"}}}],\"scatterpolargl\":[{\"type\":\"scatterpolargl\",\"marker\":{\"colorbar\":{\"outlinewidth\":0,\"ticks\":\"\"}}}],\"bar\":[{\"error_x\":{\"color\":\"#2a3f5f\"},\"error_y\":{\"color\":\"#2a3f5f\"},\"marker\":{\"line\":{\"color\":\"#E5ECF6\",\"width\":0.5},\"pattern\":{\"fillmode\":\"overlay\",\"size\":10,\"solidity\":0.2}},\"type\":\"bar\"}],\"scattergeo\":[{\"type\":\"scattergeo\",\"marker\":{\"colorbar\":{\"outlinewidth\":0,\"ticks\":\"\"}}}],\"scatterpolar\":[{\"type\":\"scatterpolar\",\"marker\":{\"colorbar\":{\"outlinewidth\":0,\"ticks\":\"\"}}}],\"histogram\":[{\"marker\":{\"pattern\":{\"fillmode\":\"overlay\",\"size\":10,\"solidity\":0.2}},\"type\":\"histogram\"}],\"scattergl\":[{\"type\":\"scattergl\",\"marker\":{\"colorbar\":{\"outlinewidth\":0,\"ticks\":\"\"}}}],\"scatter3d\":[{\"type\":\"scatter3d\",\"line\":{\"colorbar\":{\"outlinewidth\":0,\"ticks\":\"\"}},\"marker\":{\"colorbar\":{\"outlinewidth\":0,\"ticks\":\"\"}}}],\"scattermapbox\":[{\"type\":\"scattermapbox\",\"marker\":{\"colorbar\":{\"outlinewidth\":0,\"ticks\":\"\"}}}],\"scatterternary\":[{\"type\":\"scatterternary\",\"marker\":{\"colorbar\":{\"outlinewidth\":0,\"ticks\":\"\"}}}],\"scattercarpet\":[{\"type\":\"scattercarpet\",\"marker\":{\"colorbar\":{\"outlinewidth\":0,\"ticks\":\"\"}}}],\"carpet\":[{\"aaxis\":{\"endlinecolor\":\"#2a3f5f\",\"gridcolor\":\"white\",\"linecolor\":\"white\",\"minorgridcolor\":\"white\",\"startlinecolor\":\"#2a3f5f\"},\"baxis\":{\"endlinecolor\":\"#2a3f5f\",\"gridcolor\":\"white\",\"linecolor\":\"white\",\"minorgridcolor\":\"white\",\"startlinecolor\":\"#2a3f5f\"},\"type\":\"carpet\"}],\"table\":[{\"cells\":{\"fill\":{\"color\":\"#EBF0F8\"},\"line\":{\"color\":\"white\"}},\"header\":{\"fill\":{\"color\":\"#C8D4E3\"},\"line\":{\"color\":\"white\"}},\"type\":\"table\"}],\"barpolar\":[{\"marker\":{\"line\":{\"color\":\"#E5ECF6\",\"width\":0.5},\"pattern\":{\"fillmode\":\"overlay\",\"size\":10,\"solidity\":0.2}},\"type\":\"barpolar\"}],\"pie\":[{\"automargin\":true,\"type\":\"pie\"}]},\"layout\":{\"autotypenumbers\":\"strict\",\"colorway\":[\"#636efa\",\"#EF553B\",\"#00cc96\",\"#ab63fa\",\"#FFA15A\",\"#19d3f3\",\"#FF6692\",\"#B6E880\",\"#FF97FF\",\"#FECB52\"],\"font\":{\"color\":\"#2a3f5f\"},\"hovermode\":\"closest\",\"hoverlabel\":{\"align\":\"left\"},\"paper_bgcolor\":\"white\",\"plot_bgcolor\":\"#E5ECF6\",\"polar\":{\"bgcolor\":\"#E5ECF6\",\"angularaxis\":{\"gridcolor\":\"white\",\"linecolor\":\"white\",\"ticks\":\"\"},\"radialaxis\":{\"gridcolor\":\"white\",\"linecolor\":\"white\",\"ticks\":\"\"}},\"ternary\":{\"bgcolor\":\"#E5ECF6\",\"aaxis\":{\"gridcolor\":\"white\",\"linecolor\":\"white\",\"ticks\":\"\"},\"baxis\":{\"gridcolor\":\"white\",\"linecolor\":\"white\",\"ticks\":\"\"},\"caxis\":{\"gridcolor\":\"white\",\"linecolor\":\"white\",\"ticks\":\"\"}},\"coloraxis\":{\"colorbar\":{\"outlinewidth\":0,\"ticks\":\"\"}},\"colorscale\":{\"sequential\":[[0.0,\"#0d0887\"],[0.1111111111111111,\"#46039f\"],[0.2222222222222222,\"#7201a8\"],[0.3333333333333333,\"#9c179e\"],[0.4444444444444444,\"#bd3786\"],[0.5555555555555556,\"#d8576b\"],[0.6666666666666666,\"#ed7953\"],[0.7777777777777778,\"#fb9f3a\"],[0.8888888888888888,\"#fdca26\"],[1.0,\"#f0f921\"]],\"sequentialminus\":[[0.0,\"#0d0887\"],[0.1111111111111111,\"#46039f\"],[0.2222222222222222,\"#7201a8\"],[0.3333333333333333,\"#9c179e\"],[0.4444444444444444,\"#bd3786\"],[0.5555555555555556,\"#d8576b\"],[0.6666666666666666,\"#ed7953\"],[0.7777777777777778,\"#fb9f3a\"],[0.8888888888888888,\"#fdca26\"],[1.0,\"#f0f921\"]],\"diverging\":[[0,\"#8e0152\"],[0.1,\"#c51b7d\"],[0.2,\"#de77ae\"],[0.3,\"#f1b6da\"],[0.4,\"#fde0ef\"],[0.5,\"#f7f7f7\"],[0.6,\"#e6f5d0\"],[0.7,\"#b8e186\"],[0.8,\"#7fbc41\"],[0.9,\"#4d9221\"],[1,\"#276419\"]]},\"xaxis\":{\"gridcolor\":\"white\",\"linecolor\":\"white\",\"ticks\":\"\",\"title\":{\"standoff\":15},\"zerolinecolor\":\"white\",\"automargin\":true,\"zerolinewidth\":2},\"yaxis\":{\"gridcolor\":\"white\",\"linecolor\":\"white\",\"ticks\":\"\",\"title\":{\"standoff\":15},\"zerolinecolor\":\"white\",\"automargin\":true,\"zerolinewidth\":2},\"scene\":{\"xaxis\":{\"backgroundcolor\":\"#E5ECF6\",\"gridcolor\":\"white\",\"linecolor\":\"white\",\"showbackground\":true,\"ticks\":\"\",\"zerolinecolor\":\"white\",\"gridwidth\":2},\"yaxis\":{\"backgroundcolor\":\"#E5ECF6\",\"gridcolor\":\"white\",\"linecolor\":\"white\",\"showbackground\":true,\"ticks\":\"\",\"zerolinecolor\":\"white\",\"gridwidth\":2},\"zaxis\":{\"backgroundcolor\":\"#E5ECF6\",\"gridcolor\":\"white\",\"linecolor\":\"white\",\"showbackground\":true,\"ticks\":\"\",\"zerolinecolor\":\"white\",\"gridwidth\":2}},\"shapedefaults\":{\"line\":{\"color\":\"#2a3f5f\"}},\"annotationdefaults\":{\"arrowcolor\":\"#2a3f5f\",\"arrowhead\":0,\"arrowwidth\":1},\"geo\":{\"bgcolor\":\"white\",\"landcolor\":\"#E5ECF6\",\"subunitcolor\":\"white\",\"showland\":true,\"showlakes\":true,\"lakecolor\":\"white\"},\"title\":{\"x\":0.05},\"mapbox\":{\"style\":\"light\"}}},\"mapbox\":{\"domain\":{\"x\":[0.0,1.0],\"y\":[0.0,1.0]},\"center\":{\"lon\":0.027107,\"lat\":51.50817},\"zoom\":12,\"style\":\"stamen-toner\"},\"legend\":{\"tracegroupgap\":0,\"itemsizing\":\"constant\"},\"title\":{\"text\":\"London establishments by Rating and Hygiene\"}},                        {\"responsive\": true}                    ).then(function(){\n",
       "                            \n",
       "var gd = document.getElementById('f66066df-a1a0-4246-94df-d4e138abff2f');\n",
       "var x = new MutationObserver(function (mutations, observer) {{\n",
       "        var display = window.getComputedStyle(gd).display;\n",
       "        if (!display || display === 'none') {{\n",
       "            console.log([gd, 'removed!']);\n",
       "            Plotly.purge(gd);\n",
       "            observer.disconnect();\n",
       "        }}\n",
       "}});\n",
       "\n",
       "// Listen for the removal of the full notebook cells\n",
       "var notebookContainer = gd.closest('#notebook-container');\n",
       "if (notebookContainer) {{\n",
       "    x.observe(notebookContainer, {childList: true});\n",
       "}}\n",
       "\n",
       "// Listen for the clearing of the current output cell\n",
       "var outputEl = gd.closest('.output');\n",
       "if (outputEl) {{\n",
       "    x.observe(outputEl, {childList: true});\n",
       "}}\n",
       "\n",
       "                        })                };                });            </script>        </div>"
      ]
     },
     "metadata": {},
     "output_type": "display_data"
    }
   ],
   "source": [
    "#fig = px.density_mapbox(london_df,lat='latitude', lon='longitude',z='Rating_Rank',mapbox_style='stamen-toner',zoom=10)\n",
    "fig = px.scatter_mapbox(london_df,lat='latitude', lon='longitude',size='Rating_Rank',mapbox_style='stamen-toner',zoom=12,\n",
    "                        center=dict(lon=0.027107,lat=51.50817),opacity=0.5,title='London establishments by Rating and Hygiene')\n",
    "\n",
    "lats = list(london_df['latitude'])\n",
    "lons = list(london_df['longitude'])\n",
    "sizes = list(london_df['Hygiene'])\n",
    "sizes= [5 * x for x in sizes]\n",
    "\n",
    "fig.add_scattermapbox(lat=lats, lon=lons,opacity=0.5,name='Hygiene',marker_size= sizes)\n",
    "\n",
    "\n",
    "fig.show()"
   ]
  },
  {
   "cell_type": "code",
   "execution_count": null,
   "id": "36dc5830",
   "metadata": {},
   "outputs": [],
   "source": []
  }
 ],
 "metadata": {
  "kernelspec": {
   "display_name": "NoSQL(Mongo)",
   "language": "python",
   "name": "nosqlwork"
  },
  "language_info": {
   "codemirror_mode": {
    "name": "ipython",
    "version": 3
   },
   "file_extension": ".py",
   "mimetype": "text/x-python",
   "name": "python",
   "nbconvert_exporter": "python",
   "pygments_lexer": "ipython3",
   "version": "3.10.11"
  }
 },
 "nbformat": 4,
 "nbformat_minor": 5
}
